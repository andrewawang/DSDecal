{
 "cells": [
  {
   "cell_type": "code",
   "execution_count": 16,
   "metadata": {
    "collapsed": true
   },
   "outputs": [],
   "source": [
    "import numpy as np\n",
    "import pandas as pd\n",
    "import os\n",
    "import sklearn\n",
    "import matplotlib.pyplot as plt\n",
    "from sklearn.linear_model import LogisticRegression\n",
    "from sklearn.preprocessing import normalize\n",
    "from sklearn.tree import DecisionTreeClassifier\n",
    "from sklearn.ensemble import RandomForestClassifier\n",
    "from sklearn.model_selection import GridSearchCV"
   ]
  },
  {
   "cell_type": "markdown",
   "metadata": {},
   "source": [
    "# Reading Data"
   ]
  },
  {
   "cell_type": "code",
   "execution_count": 2,
   "metadata": {
    "collapsed": true
   },
   "outputs": [],
   "source": [
    "def segmentWords(s): \n",
    "    return s.split()\n",
    "\n",
    "def readFile(fileName):\n",
    "    # Function for reading file\n",
    "    # input: filename as string\n",
    "    # output: contents of file as list containing single words\n",
    "    contents = []\n",
    "    f = open(fileName)\n",
    "    for line in f:\n",
    "        contents.append(line)\n",
    "    f.close()\n",
    "    result = segmentWords('\\n'.join(contents))\n",
    "    return result"
   ]
  },
  {
   "cell_type": "markdown",
   "metadata": {},
   "source": [
    "#### Create a Dataframe containing the counts of each word in a file"
   ]
  },
  {
   "cell_type": "code",
   "execution_count": 3,
   "metadata": {
    "collapsed": true
   },
   "outputs": [],
   "source": [
    "d = []\n",
    "\n",
    "for c in os.listdir(\"data_training\"):\n",
    "    if c != \".DS_Store\":\n",
    "        directory = \"data_training/\" + c\n",
    "        for file in os.listdir(directory):\n",
    "            words = readFile(directory + \"/\" + file)\n",
    "            e = {x:words.count(x) for x in words}\n",
    "            e['__FileID__'] = file\n",
    "            e['__CLASS__'] = c\n",
    "            d.append(e)"
   ]
  },
  {
   "cell_type": "markdown",
   "metadata": {},
   "source": [
    "Create a dataframe from d - make sure to fill all the nan values with zeros.\n",
    "\n",
    "References:\n",
    "\n",
    "https://pandas.pydata.org/pandas-docs/stable/generated/pandas.DataFrame.html\n",
    "https://pandas.pydata.org/pandas-docs/stable/generated/pandas.DataFrame.fillna.html\n"
   ]
  },
  {
   "cell_type": "code",
   "execution_count": 4,
   "metadata": {
    "collapsed": true
   },
   "outputs": [],
   "source": [
    "data = pd.DataFrame.from_records(d)\n",
    "data = data.fillna(value = 0)"
   ]
  },
  {
   "cell_type": "markdown",
   "metadata": {},
   "source": [
    "#### Split data into training and validation set "
   ]
  },
  {
   "cell_type": "markdown",
   "metadata": {
    "collapsed": true
   },
   "source": [
    "* Sample 80% of your dataframe to be the training data\n",
    "\n",
    "* Let the remaining 20% be the validation data (you can filter out the indicies of the original dataframe that weren't selected for the training data)\n",
    "\n",
    "References:\n",
    "\n",
    "https://pandas.pydata.org/pandas-docs/stable/generated/pandas.DataFrame.sample.html\n",
    "https://pandas.pydata.org/pandas-docs/stable/generated/pandas.DataFrame.drop.html"
   ]
  },
  {
   "cell_type": "code",
   "execution_count": 5,
   "metadata": {},
   "outputs": [
    {
     "data": {
      "text/html": [
       "<div>\n",
       "<style>\n",
       "    .dataframe thead tr:only-child th {\n",
       "        text-align: right;\n",
       "    }\n",
       "\n",
       "    .dataframe thead th {\n",
       "        text-align: left;\n",
       "    }\n",
       "\n",
       "    .dataframe tbody tr th {\n",
       "        vertical-align: top;\n",
       "    }\n",
       "</style>\n",
       "<table border=\"1\" class=\"dataframe\">\n",
       "  <thead>\n",
       "    <tr style=\"text-align: right;\">\n",
       "      <th></th>\n",
       "      <th>\u0005</th>\n",
       "      <th>\u0013earth</th>\n",
       "      <th>\u0013goodies</th>\n",
       "      <th>\u0013if</th>\n",
       "      <th>\u0013ripley</th>\n",
       "      <th>\u0013suspend</th>\n",
       "      <th>\u0013they</th>\n",
       "      <th>\u0013white\u0014</th>\n",
       "      <th>\u0014</th>\n",
       "      <th>\u0016</th>\n",
       "      <th>...</th>\n",
       "      <th>zukovsky</th>\n",
       "      <th>zundel</th>\n",
       "      <th>zurg's</th>\n",
       "      <th>zweibel</th>\n",
       "      <th>zwick</th>\n",
       "      <th>zwick's</th>\n",
       "      <th>zwigoff's</th>\n",
       "      <th>zycie</th>\n",
       "      <th>zycie'</th>\n",
       "      <th>|</th>\n",
       "    </tr>\n",
       "  </thead>\n",
       "  <tbody>\n",
       "    <tr>\n",
       "      <th>366</th>\n",
       "      <td>0.0</td>\n",
       "      <td>0.0</td>\n",
       "      <td>0.0</td>\n",
       "      <td>0.0</td>\n",
       "      <td>0.0</td>\n",
       "      <td>0.0</td>\n",
       "      <td>0.0</td>\n",
       "      <td>0.0</td>\n",
       "      <td>0.0</td>\n",
       "      <td>0.0</td>\n",
       "      <td>...</td>\n",
       "      <td>0.0</td>\n",
       "      <td>0.0</td>\n",
       "      <td>0.0</td>\n",
       "      <td>0.0</td>\n",
       "      <td>0.0</td>\n",
       "      <td>0.0</td>\n",
       "      <td>0.0</td>\n",
       "      <td>0.0</td>\n",
       "      <td>0.0</td>\n",
       "      <td>0.0</td>\n",
       "    </tr>\n",
       "    <tr>\n",
       "      <th>1325</th>\n",
       "      <td>0.0</td>\n",
       "      <td>0.0</td>\n",
       "      <td>0.0</td>\n",
       "      <td>0.0</td>\n",
       "      <td>0.0</td>\n",
       "      <td>0.0</td>\n",
       "      <td>0.0</td>\n",
       "      <td>0.0</td>\n",
       "      <td>0.0</td>\n",
       "      <td>0.0</td>\n",
       "      <td>...</td>\n",
       "      <td>0.0</td>\n",
       "      <td>0.0</td>\n",
       "      <td>0.0</td>\n",
       "      <td>0.0</td>\n",
       "      <td>0.0</td>\n",
       "      <td>0.0</td>\n",
       "      <td>0.0</td>\n",
       "      <td>0.0</td>\n",
       "      <td>0.0</td>\n",
       "      <td>0.0</td>\n",
       "    </tr>\n",
       "    <tr>\n",
       "      <th>133</th>\n",
       "      <td>0.0</td>\n",
       "      <td>0.0</td>\n",
       "      <td>0.0</td>\n",
       "      <td>0.0</td>\n",
       "      <td>0.0</td>\n",
       "      <td>0.0</td>\n",
       "      <td>0.0</td>\n",
       "      <td>0.0</td>\n",
       "      <td>0.0</td>\n",
       "      <td>0.0</td>\n",
       "      <td>...</td>\n",
       "      <td>0.0</td>\n",
       "      <td>0.0</td>\n",
       "      <td>0.0</td>\n",
       "      <td>0.0</td>\n",
       "      <td>0.0</td>\n",
       "      <td>0.0</td>\n",
       "      <td>0.0</td>\n",
       "      <td>0.0</td>\n",
       "      <td>0.0</td>\n",
       "      <td>0.0</td>\n",
       "    </tr>\n",
       "    <tr>\n",
       "      <th>1419</th>\n",
       "      <td>0.0</td>\n",
       "      <td>0.0</td>\n",
       "      <td>0.0</td>\n",
       "      <td>0.0</td>\n",
       "      <td>0.0</td>\n",
       "      <td>0.0</td>\n",
       "      <td>0.0</td>\n",
       "      <td>0.0</td>\n",
       "      <td>0.0</td>\n",
       "      <td>0.0</td>\n",
       "      <td>...</td>\n",
       "      <td>0.0</td>\n",
       "      <td>0.0</td>\n",
       "      <td>0.0</td>\n",
       "      <td>0.0</td>\n",
       "      <td>0.0</td>\n",
       "      <td>0.0</td>\n",
       "      <td>0.0</td>\n",
       "      <td>0.0</td>\n",
       "      <td>0.0</td>\n",
       "      <td>0.0</td>\n",
       "    </tr>\n",
       "    <tr>\n",
       "      <th>1258</th>\n",
       "      <td>0.0</td>\n",
       "      <td>0.0</td>\n",
       "      <td>0.0</td>\n",
       "      <td>0.0</td>\n",
       "      <td>0.0</td>\n",
       "      <td>0.0</td>\n",
       "      <td>0.0</td>\n",
       "      <td>0.0</td>\n",
       "      <td>0.0</td>\n",
       "      <td>0.0</td>\n",
       "      <td>...</td>\n",
       "      <td>0.0</td>\n",
       "      <td>0.0</td>\n",
       "      <td>0.0</td>\n",
       "      <td>0.0</td>\n",
       "      <td>0.0</td>\n",
       "      <td>0.0</td>\n",
       "      <td>0.0</td>\n",
       "      <td>0.0</td>\n",
       "      <td>0.0</td>\n",
       "      <td>0.0</td>\n",
       "    </tr>\n",
       "  </tbody>\n",
       "</table>\n",
       "<p>5 rows × 45673 columns</p>\n",
       "</div>"
      ],
      "text/plain": [
       "        \u0005  \u0013earth  \u0013goodies  \u0013if  \u0013ripley  \u0013suspend  \u0013they  \u0013white\u0014    \u0014    \u0016  \\\n",
       "366   0.0     0.0       0.0  0.0      0.0       0.0    0.0      0.0  0.0  0.0   \n",
       "1325  0.0     0.0       0.0  0.0      0.0       0.0    0.0      0.0  0.0  0.0   \n",
       "133   0.0     0.0       0.0  0.0      0.0       0.0    0.0      0.0  0.0  0.0   \n",
       "1419  0.0     0.0       0.0  0.0      0.0       0.0    0.0      0.0  0.0  0.0   \n",
       "1258  0.0     0.0       0.0  0.0      0.0       0.0    0.0      0.0  0.0  0.0   \n",
       "\n",
       "     ...   zukovsky  zundel  zurg's  zweibel  zwick  zwick's  zwigoff's  \\\n",
       "366  ...        0.0     0.0     0.0      0.0    0.0      0.0        0.0   \n",
       "1325 ...        0.0     0.0     0.0      0.0    0.0      0.0        0.0   \n",
       "133  ...        0.0     0.0     0.0      0.0    0.0      0.0        0.0   \n",
       "1419 ...        0.0     0.0     0.0      0.0    0.0      0.0        0.0   \n",
       "1258 ...        0.0     0.0     0.0      0.0    0.0      0.0        0.0   \n",
       "\n",
       "      zycie  zycie'    |  \n",
       "366     0.0     0.0  0.0  \n",
       "1325    0.0     0.0  0.0  \n",
       "133     0.0     0.0  0.0  \n",
       "1419    0.0     0.0  0.0  \n",
       "1258    0.0     0.0  0.0  \n",
       "\n",
       "[5 rows x 45673 columns]"
      ]
     },
     "execution_count": 5,
     "metadata": {},
     "output_type": "execute_result"
    }
   ],
   "source": [
    "training_data = data.sample(frac = 0.8, random_state = 200)\n",
    "validation_data = data.drop(training_data.index)\n",
    "training_data.head()"
   ]
  },
  {
   "cell_type": "markdown",
   "metadata": {},
   "source": [
    "* Split the dataframe for both training and validation data into x and y dataframes - where y contains the labels and x contains the words\n",
    "\n",
    "References:\n",
    "\n",
    "https://pandas.pydata.org/pandas-docs/stable/generated/pandas.DataFrame.drop.html"
   ]
  },
  {
   "cell_type": "code",
   "execution_count": 6,
   "metadata": {
    "collapsed": true
   },
   "outputs": [],
   "source": [
    "X_train = training_data.drop(['__CLASS__', '__FileID__'], axis=1)\n",
    "y_train = training_data['__CLASS__']\n",
    "X_valid = validation_data.drop(['__CLASS__', '__FileID__'], axis=1)\n",
    "y_valid = validation_data['__CLASS__']"
   ]
  },
  {
   "cell_type": "markdown",
   "metadata": {},
   "source": [
    "# Logistic Regression"
   ]
  },
  {
   "cell_type": "markdown",
   "metadata": {},
   "source": [
    "#### Basic Logistic Regression\n",
    "* Use sklearn's linear_model.LogisticRegression() to create your model.\n",
    "* Fit the data and labels with your model.\n",
    "* Score your model with the same data and labels.\n",
    "\n",
    "References:\n",
    "\n",
    "http://scikit-learn.org/stable/modules/generated/sklearn.linear_model.LogisticRegression.html"
   ]
  },
  {
   "cell_type": "code",
   "execution_count": 7,
   "metadata": {},
   "outputs": [
    {
     "data": {
      "text/plain": [
       "0.81874999999999998"
      ]
     },
     "execution_count": 7,
     "metadata": {},
     "output_type": "execute_result"
    }
   ],
   "source": [
    "logreg = LogisticRegression()\n",
    "logmodel = logreg.fit(X_train, y_train)\n",
    "logmodel.score(X_valid, y_valid)"
   ]
  },
  {
   "cell_type": "markdown",
   "metadata": {},
   "source": [
    "#### Changing Parameters"
   ]
  },
  {
   "cell_type": "code",
   "execution_count": 8,
   "metadata": {},
   "outputs": [
    {
     "name": "stdout",
     "output_type": "stream",
     "text": [
      "45671\n"
     ]
    }
   ],
   "source": [
    "coef_normed = normalize(logmodel.coef_)\n",
    "std = np.std(coef_normed)\n",
    "mean = np.mean(coef_normed)\n",
    "\n",
    "#not completely right yet\n",
    "changed_logmodel = coef_normed[np.where((coef_normed <= mean + std) | (coef_normed >= mean - std))]\n",
    "index_included = 0\n",
    "list_indices_included = []\n",
    "list_indices_not_included = []\n",
    "coef_normed_access = coef_normed[0]\n",
    "while index_included < len(coef_normed_access):\n",
    "    if (coef_normed_access[index_included] >= mean - std) and (coef_normed_access[index_included] <= mean + std):\n",
    "        list_indices_included.append(index_included)\n",
    "    else:\n",
    "        list_indices_not_included.append(index_included)\n",
    "    index_included += 1\n",
    "print(len(list_indices_included) + len(list_indices_not_included))"
   ]
  },
  {
   "cell_type": "markdown",
   "metadata": {},
   "source": [
    "#### Feature Selection\n",
    "* In the backward stepsize selection method, you can remove coefficients and the corresponding x columns, where the coefficient is more than a particular amount away from the mean - you can choose how far from the mean is reasonable.\n",
    "\n",
    "References:\n",
    "\n",
    "https://pandas.pydata.org/pandas-docs/stable/generated/pandas.DataFrame.html# \n",
    "\n",
    "https://pandas.pydata.org/pandas-docs/stable/generated/pandas.DataFrame.sample.html\n",
    "\n",
    "https://pandas.pydata.org/pandas-docs/stable/generated/pandas.DataFrame.drop.html\n",
    "\n",
    "http://scikit-learn.org/stable/modules/generated/sklearn.linear_model.LogisticRegression.html\n",
    "\n",
    "https://docs.scipy.org/doc/numpy-1.13.0/reference/generated/numpy.where.html\n",
    "\n",
    "https://docs.scipy.org/doc/numpy-1.13.0/reference/generated/numpy.std.html\n",
    "\n",
    "https://docs.scipy.org/doc/numpy-1.13.0/reference/generated/numpy.mean.html"
   ]
  },
  {
   "cell_type": "code",
   "execution_count": null,
   "metadata": {
    "collapsed": true
   },
   "outputs": [],
   "source": []
  },
  {
   "cell_type": "markdown",
   "metadata": {},
   "source": [
    "How did you select which features to remove? Why did that reduce overfitting?"
   ]
  },
  {
   "cell_type": "markdown",
   "metadata": {
    "collapsed": true
   },
   "source": [
    "Answer:\n",
    "Remove features that are more than 1 standard deviation away from the mean of normalized coefficients. This reduces overfitting by removing outliers and features that are not as close to the decision boundary."
   ]
  },
  {
   "cell_type": "markdown",
   "metadata": {},
   "source": [
    "# Single Decision Tree"
   ]
  },
  {
   "cell_type": "markdown",
   "metadata": {},
   "source": [
    "#### Basic Decision Tree\n",
    "\n",
    "* Initialize your model as a decision tree with sklearn.\n",
    "* Fit the data and labels to the model.\n",
    "\n",
    "References:\n",
    "\n",
    "http://scikit-learn.org/stable/modules/generated/sklearn.tree.DecisionTreeClassifier.html\n"
   ]
  },
  {
   "cell_type": "code",
   "execution_count": 9,
   "metadata": {},
   "outputs": [
    {
     "data": {
      "text/plain": [
       "0.625"
      ]
     },
     "execution_count": 9,
     "metadata": {},
     "output_type": "execute_result"
    }
   ],
   "source": [
    "dtc = DecisionTreeClassifier()\n",
    "dtcmodel = dtc.fit(X_train, y_train)\n",
    "dtcmodel.score(X_valid, y_valid)"
   ]
  },
  {
   "cell_type": "markdown",
   "metadata": {},
   "source": [
    "#### Changing Parameters\n",
    "* To test out which value is optimal for a particular parameter, you can either loop through various values or look into sklearn.model_selection.GridSearchCV\n",
    "\n",
    "References:\n",
    "\n",
    "\n",
    "http://scikit-learn.org/stable/modules/generated/sklearn.model_selection.GridSearchCV.html\n",
    "http://scikit-learn.org/stable/modules/generated/sklearn.tree.DecisionTreeClassifier.html"
   ]
  },
  {
   "cell_type": "code",
   "execution_count": 10,
   "metadata": {
    "scrolled": false
   },
   "outputs": [
    {
     "name": "stdout",
     "output_type": "stream",
     "text": [
      "{'presort': [0.65312499999999996, 0.61875000000000002], 'splitter': [0.63437500000000002, 0.64375000000000004], 'min_samples_leaf': [0.66874999999999996, 0.59999999999999998, 0.61250000000000004], 'max_features': [0.58750000000000002, 0.58750000000000002, 0.57187500000000002, 0.63749999999999996], 'min_samples_split': [0.62187499999999996, 0.609375, 0.61875000000000002, 0.64687499999999998], 'class_weight': [0.63749999999999996, 0.66249999999999998]}\n"
     ]
    }
   ],
   "source": [
    "def mean(lst):\n",
    "    size = len(lst)\n",
    "    return sum(lst) / size\n",
    "\n",
    "params = {\"splitter\":[\"best\", \"random\"],\n",
    "#           \"max_depth\":[None],\n",
    "          \"min_samples_split\":[3,4,5,6],\n",
    "          \"min_samples_leaf\":[2,3,4],\n",
    "          \"max_features\":[\"auto\", \"sqrt\", \"log2\", None],\n",
    "#           \"random_state\":[None],\n",
    "#           \"max_leaf_nodes\":[None],\n",
    "#           \"min_impurity_decrease\":[0],\n",
    "          \"class_weight\":[\"balanced\", None],\n",
    "          \"presort\":[True, False]}\n",
    "\n",
    "results = {\"splitter\":None,\n",
    "           \"min_samples_split\":None,\n",
    "           \"min_samples_leaf\":None,\n",
    "           \"max_features\":None,\n",
    "           \"class_weight\":None,\n",
    "           \"presort\":None}\n",
    "\n",
    "split = params[\"splitter\"]\n",
    "mss = params[\"min_samples_split\"]\n",
    "msl = params[\"min_samples_leaf\"]\n",
    "mf = params[\"max_features\"]\n",
    "cw = params[\"class_weight\"]\n",
    "ps = params[\"presort\"]\n",
    "\n",
    "param_heads = [\"splitter\", \"min_samples_split\", \"min_samples_leaf\", \"max_features\", \"class_weight\", \"presort\"]\n",
    "temp_results = []\n",
    "\n",
    "for header in param_heads:\n",
    "    temp_results = []\n",
    "    for param_value in params[header]:\n",
    "        dtc_temp = None\n",
    "        if header == \"splitter\":\n",
    "            dtc_temp = DecisionTreeClassifier(splitter=param_value)\n",
    "        elif header == \"min_samples_split\":\n",
    "            dtc_temp = DecisionTreeClassifier(min_samples_split=param_value)\n",
    "        elif header == \"min_samples_leaf\":\n",
    "            dtc_temp = DecisionTreeClassifier(min_samples_leaf=param_value)\n",
    "        elif header == \"max_features\":\n",
    "            dtc_temp = DecisionTreeClassifier(max_features=param_value)\n",
    "        elif header == \"class_weight\":\n",
    "            dtc_temp = DecisionTreeClassifier(class_weight=param_value)\n",
    "        elif header == \"presort\":\n",
    "            dtc_temp = DecisionTreeClassifier(presort=param_value)\n",
    "        dtcmodel_temp = dtc_temp.fit(X_train, y_train)\n",
    "        temp_results.append(dtcmodel_temp.score(X_valid, y_valid))\n",
    "    results[header] = temp_results\n",
    "\n",
    "print(results)"
   ]
  },
  {
   "cell_type": "markdown",
   "metadata": {},
   "source": [
    "How did you choose which parameters to change and what value to give to them? Feel free to show a plot."
   ]
  },
  {
   "cell_type": "code",
   "execution_count": null,
   "metadata": {
    "collapsed": true
   },
   "outputs": [],
   "source": []
  },
  {
   "cell_type": "markdown",
   "metadata": {},
   "source": [
    "Why is a single decision tree so prone to overfitting?"
   ]
  },
  {
   "cell_type": "code",
   "execution_count": null,
   "metadata": {
    "collapsed": true
   },
   "outputs": [],
   "source": []
  },
  {
   "cell_type": "markdown",
   "metadata": {},
   "source": [
    "# Random Forest Classifier"
   ]
  },
  {
   "cell_type": "markdown",
   "metadata": {},
   "source": [
    "#### Basic Random Forest\n",
    "\n",
    "* Use sklearn's ensemble.RandomForestClassifier() to create your model.\n",
    "* Fit the data and labels with your model.\n",
    "* Score your model with the same data and labels.\n",
    "\n",
    "References:\n",
    "\n",
    "http://scikit-learn.org/stable/modules/generated/sklearn.ensemble.RandomForestClassifier.html\n"
   ]
  },
  {
   "cell_type": "code",
   "execution_count": 11,
   "metadata": {},
   "outputs": [
    {
     "data": {
      "text/plain": [
       "0.99531250000000004"
      ]
     },
     "execution_count": 11,
     "metadata": {},
     "output_type": "execute_result"
    }
   ],
   "source": [
    "rfc = RandomForestClassifier(random_state = 0)\n",
    "rfcmodel = rfc.fit(X_train, y_train)\n",
    "rfcmodel.score(X_train, y_train)"
   ]
  },
  {
   "cell_type": "markdown",
   "metadata": {},
   "source": [
    "#### Changing Parameters"
   ]
  },
  {
   "cell_type": "code",
   "execution_count": 26,
   "metadata": {},
   "outputs": [
    {
     "name": "stdout",
     "output_type": "stream",
     "text": [
      "{'min_samples_split': [0.65312499999999996, 0.69687500000000002, 0.640625, 0.67812499999999998], 'max_features': [0.63124999999999998, 0.65625, 0.60312500000000002, 0.671875], 'class_weight': [0.67500000000000004, 0.67812499999999998], 'min_samples_leaf': [0.69687500000000002, 0.65312499999999996, 0.64375000000000004]}\n"
     ]
    }
   ],
   "source": [
    "def mean(lst):\n",
    "    size = len(lst)\n",
    "    return sum(lst) / size\n",
    "\n",
    "params = {#\"splitter\":[\"best\", \"random\"],\n",
    "#           \"max_depth\":[None],\n",
    "          \"min_samples_split\":[3,4,5,6],\n",
    "          \"min_samples_leaf\":[2,3,4],\n",
    "          \"max_features\":[\"auto\", \"sqrt\", \"log2\", None],\n",
    "#           \"random_state\":[None],\n",
    "#           \"max_leaf_nodes\":[None],\n",
    "#           \"min_impurity_decrease\":[0],\n",
    "          \"class_weight\":[\"balanced\", None]}\n",
    "\n",
    "results = {\"min_samples_split\":None,\n",
    "           \"min_samples_leaf\":None,\n",
    "           \"max_features\":None,\n",
    "           \"class_weight\":None}\n",
    "\n",
    "#split = params[\"splitter\"]\n",
    "mss = params[\"min_samples_split\"]\n",
    "msl = params[\"min_samples_leaf\"]\n",
    "mf = params[\"max_features\"]\n",
    "cw = params[\"class_weight\"]\n",
    "#ps = params[\"presort\"]\n",
    "\n",
    "param_heads = [\"min_samples_split\", \"min_samples_leaf\", \"max_features\", \"class_weight\"]#, \"presort\"]\n",
    "temp_results = []\n",
    "\n",
    "for header in param_heads:\n",
    "    temp_results = []\n",
    "    for param_value in params[header]:\n",
    "        dtc_temp = None\n",
    "        #if header == \"splitter\":\n",
    "            #dtc_temp = RandomForestClassifier(splitter=param_value)\n",
    "        if header == \"min_samples_split\":\n",
    "            dtc_temp = RandomForestClassifier(min_samples_split=param_value)\n",
    "        elif header == \"min_samples_leaf\":\n",
    "            dtc_temp = RandomForestClassifier(min_samples_leaf=param_value)\n",
    "        elif header == \"max_features\":\n",
    "            dtc_temp = RandomForestClassifier(max_features=param_value)\n",
    "        elif header == \"class_weight\":\n",
    "            dtc_temp = RandomForestClassifier(class_weight=param_value)\n",
    "        #elif header == \"presort\":\n",
    "            #dtc_temp = RandomForestClassifier(presort=param_value)\n",
    "        dtcmodel_temp = dtc_temp.fit(X_train, y_train)\n",
    "        temp_results.append(dtcmodel_temp.score(X_valid, y_valid))\n",
    "    results[header] = temp_results\n",
    "\n",
    "print(results)"
   ]
  },
  {
   "cell_type": "markdown",
   "metadata": {},
   "source": [
    "What parameters did you choose to change and why?"
   ]
  },
  {
   "cell_type": "code",
   "execution_count": null,
   "metadata": {
    "collapsed": true
   },
   "outputs": [],
   "source": []
  },
  {
   "cell_type": "markdown",
   "metadata": {},
   "source": [
    "How does a random forest classifier prevent overfitting better than a single decision tree?"
   ]
  },
  {
   "cell_type": "code",
   "execution_count": null,
   "metadata": {
    "collapsed": true
   },
   "outputs": [],
   "source": []
  },
  {
   "cell_type": "code",
   "execution_count": null,
   "metadata": {
    "collapsed": true
   },
   "outputs": [],
   "source": []
  },
  {
   "cell_type": "code",
   "execution_count": null,
   "metadata": {
    "collapsed": true
   },
   "outputs": [],
   "source": []
  },
  {
   "cell_type": "code",
   "execution_count": null,
   "metadata": {
    "collapsed": true
   },
   "outputs": [],
   "source": []
  }
 ],
 "metadata": {
  "kernelspec": {
   "display_name": "Python 2",
   "language": "python",
   "name": "python2"
  },
  "language_info": {
   "codemirror_mode": {
    "name": "ipython",
    "version": 2
   },
   "file_extension": ".py",
   "mimetype": "text/x-python",
   "name": "python",
   "nbconvert_exporter": "python",
   "pygments_lexer": "ipython2",
   "version": "2.7.14"
  }
 },
 "nbformat": 4,
 "nbformat_minor": 1
}
