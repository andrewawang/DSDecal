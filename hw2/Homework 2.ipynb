{
 "cells": [
  {
   "cell_type": "markdown",
   "metadata": {},
   "source": [
    "# Homework 2"
   ]
  },
  {
   "cell_type": "markdown",
   "metadata": {},
   "source": [
    "### Imports:"
   ]
  },
  {
   "cell_type": "code",
   "execution_count": 1,
   "metadata": {},
   "outputs": [],
   "source": [
    "import numpy as np\n",
    "import pandas as pd\n",
    "import os\n",
    "import sklearn\n",
    "from sklearn.svm import SVC\n",
    "import matplotlib as mpl\n",
    "import matplotlib.pyplot as plt\n",
    "%matplotlib inline"
   ]
  },
  {
   "cell_type": "markdown",
   "metadata": {},
   "source": [
    "### Reading in data"
   ]
  },
  {
   "cell_type": "code",
   "execution_count": 2,
   "metadata": {},
   "outputs": [],
   "source": [
    "training = pd.read_csv(\"training.csv\")\n",
    "test = pd.read_csv(\"test.csv\")"
   ]
  },
  {
   "cell_type": "markdown",
   "metadata": {},
   "source": [
    "### Splitting data"
   ]
  },
  {
   "cell_type": "code",
   "execution_count": 3,
   "metadata": {},
   "outputs": [],
   "source": [
    "X_train = training.drop(training.columns[3], axis=1)\n",
    "y_train = training['0.000000']\n",
    "X_test = test.drop(test.columns[3], axis=1)\n",
    "y_test = test['1.000000']"
   ]
  },
  {
   "cell_type": "markdown",
   "metadata": {},
   "source": [
    "### Grayscale representation of data"
   ]
  },
  {
   "cell_type": "code",
   "execution_count": 4,
   "metadata": {},
   "outputs": [
    {
     "data": {
      "text/plain": [
       "<matplotlib.text.Text at 0x10c34f470>"
      ]
     },
     "execution_count": 4,
     "metadata": {},
     "output_type": "execute_result"
    },
    {
     "data": {
      "image/png": "[encoded data removed]",
      "text/plain": [
       "<matplotlib.figure.Figure at 0x10c2764a8>"
      ]
     },
     "metadata": {},
     "output_type": "display_data"
    }
   ],
   "source": [
    "plt.imshow(X_train, aspect = 'auto', cmap='gray')\n",
    "plt.title('Training') "
   ]
  },
  {
   "cell_type": "code",
   "execution_count": 5,
   "metadata": {},
   "outputs": [
    {
     "data": {
      "text/plain": [
       "<matplotlib.text.Text at 0x10c88d710>"
      ]
     },
     "execution_count": 5,
     "metadata": {},
     "output_type": "execute_result"
    },
    {
     "data": {
      "image/png": "[encoded data removed]",
      "text/plain": [
       "<matplotlib.figure.Figure at 0x10c331898>"
      ]
     },
     "metadata": {},
     "output_type": "display_data"
    }
   ],
   "source": [
    "plt.imshow(X_test, aspect = 'auto', cmap='gray')\n",
    "plt.title('Testing') "
   ]
  },
  {
   "cell_type": "markdown",
   "metadata": {},
   "source": [
    "# SVM Modeling"
   ]
  },
  {
   "cell_type": "markdown",
   "metadata": {},
   "source": [
    "### Creating models with different C and degree"
   ]
  },
  {
   "cell_type": "code",
   "execution_count": 6,
   "metadata": {},
   "outputs": [],
   "source": [
    "models = []\n",
    "C = [0.0001, 0.001, 0.01, 0.1, 1]\n",
    "d = [1, 2, 3, 5]\n",
    "kernel = [\"linear\", \"poly\", \"rbf\", \"sigmoid\", \"precomputed\"]\n",
    "for k in d:\n",
    "    for i in C:\n",
    "        models.append(SVC(C = i, degree = k, kernel = 'poly'))"
   ]
  },
  {
   "cell_type": "markdown",
   "metadata": {},
   "source": [
    "### Training models and recording scores"
   ]
  },
  {
   "cell_type": "code",
   "execution_count": 7,
   "metadata": {},
   "outputs": [],
   "source": [
    "training_scores = []\n",
    "test_scores = []\n",
    "for model in models:\n",
    "    model.fit(X_train, y_train)\n",
    "    training_scores.append(model.score(X_train, y_train))\n",
    "    test_scores.append(model.score(X_test, y_test))"
   ]
  },
  {
   "cell_type": "markdown",
   "metadata": {},
   "source": [
    "### Training Error Grid"
   ]
  },
  {
   "cell_type": "code",
   "execution_count": 8,
   "metadata": {},
   "outputs": [
    {
     "data": {
      "text/html": [
       "<div>\n",
       "<style>\n",
       "    .dataframe thead tr:only-child th {\n",
       "        text-align: right;\n",
       "    }\n",
       "\n",
       "    .dataframe thead th {\n",
       "        text-align: left;\n",
       "    }\n",
       "\n",
       "    .dataframe tbody tr th {\n",
       "        vertical-align: top;\n",
       "    }\n",
       "</style>\n",
       "<table border=\"1\" class=\"dataframe\">\n",
       "  <thead>\n",
       "    <tr style=\"text-align: right;\">\n",
       "      <th></th>\n",
       "      <th>0.0001</th>\n",
       "      <th>0.001</th>\n",
       "      <th>0.01</th>\n",
       "      <th>0.1</th>\n",
       "      <th>1</th>\n",
       "    </tr>\n",
       "  </thead>\n",
       "  <tbody>\n",
       "    <tr>\n",
       "      <th>0</th>\n",
       "      <td>0.910911</td>\n",
       "      <td>0.910911</td>\n",
       "      <td>0.911912</td>\n",
       "      <td>0.961962</td>\n",
       "      <td>0.965966</td>\n",
       "    </tr>\n",
       "    <tr>\n",
       "      <th>1</th>\n",
       "      <td>0.910911</td>\n",
       "      <td>0.910911</td>\n",
       "      <td>0.910911</td>\n",
       "      <td>0.910911</td>\n",
       "      <td>0.910911</td>\n",
       "    </tr>\n",
       "    <tr>\n",
       "      <th>2</th>\n",
       "      <td>0.948949</td>\n",
       "      <td>0.978979</td>\n",
       "      <td>0.981982</td>\n",
       "      <td>0.981982</td>\n",
       "      <td>0.982983</td>\n",
       "    </tr>\n",
       "    <tr>\n",
       "      <th>3</th>\n",
       "      <td>0.981982</td>\n",
       "      <td>0.984985</td>\n",
       "      <td>0.982983</td>\n",
       "      <td>0.983984</td>\n",
       "      <td>0.983984</td>\n",
       "    </tr>\n",
       "  </tbody>\n",
       "</table>\n",
       "</div>"
      ],
      "text/plain": [
       "     0.0001     0.001      0.01       0.1         1\n",
       "0  0.910911  0.910911  0.911912  0.961962  0.965966\n",
       "1  0.910911  0.910911  0.910911  0.910911  0.910911\n",
       "2  0.948949  0.978979  0.981982  0.981982  0.982983\n",
       "3  0.981982  0.984985  0.982983  0.983984  0.983984"
      ]
     },
     "execution_count": 8,
     "metadata": {},
     "output_type": "execute_result"
    }
   ],
   "source": [
    "pd.DataFrame(data = np.array([training_scores[0:5],\n",
    "                              training_scores[5:10], \n",
    "                              training_scores[10:15],\n",
    "                              training_scores[15:20]]), \n",
    "                              columns = [\"0.0001\", \"0.001\", \"0.01\", \"0.1\", \"1\"])"
   ]
  },
  {
   "cell_type": "markdown",
   "metadata": {},
   "source": [
    "### Validation Error Grid"
   ]
  },
  {
   "cell_type": "code",
   "execution_count": 9,
   "metadata": {},
   "outputs": [
    {
     "data": {
      "text/html": [
       "<div>\n",
       "<style>\n",
       "    .dataframe thead tr:only-child th {\n",
       "        text-align: right;\n",
       "    }\n",
       "\n",
       "    .dataframe thead th {\n",
       "        text-align: left;\n",
       "    }\n",
       "\n",
       "    .dataframe tbody tr th {\n",
       "        vertical-align: top;\n",
       "    }\n",
       "</style>\n",
       "<table border=\"1\" class=\"dataframe\">\n",
       "  <thead>\n",
       "    <tr style=\"text-align: right;\">\n",
       "      <th></th>\n",
       "      <th>0.0001</th>\n",
       "      <th>0.001</th>\n",
       "      <th>0.01</th>\n",
       "      <th>0.1</th>\n",
       "      <th>1</th>\n",
       "    </tr>\n",
       "  </thead>\n",
       "  <tbody>\n",
       "    <tr>\n",
       "      <th>0</th>\n",
       "      <td>0.558520</td>\n",
       "      <td>0.628209</td>\n",
       "      <td>0.812271</td>\n",
       "      <td>0.779260</td>\n",
       "      <td>0.768590</td>\n",
       "    </tr>\n",
       "    <tr>\n",
       "      <th>1</th>\n",
       "      <td>0.558520</td>\n",
       "      <td>0.558520</td>\n",
       "      <td>0.558520</td>\n",
       "      <td>0.558520</td>\n",
       "      <td>0.558520</td>\n",
       "    </tr>\n",
       "    <tr>\n",
       "      <th>2</th>\n",
       "      <td>0.875959</td>\n",
       "      <td>0.921641</td>\n",
       "      <td>0.939313</td>\n",
       "      <td>0.943648</td>\n",
       "      <td>0.942648</td>\n",
       "    </tr>\n",
       "    <tr>\n",
       "      <th>3</th>\n",
       "      <td>0.902301</td>\n",
       "      <td>0.899967</td>\n",
       "      <td>0.896632</td>\n",
       "      <td>0.898966</td>\n",
       "      <td>0.899967</td>\n",
       "    </tr>\n",
       "  </tbody>\n",
       "</table>\n",
       "</div>"
      ],
      "text/plain": [
       "     0.0001     0.001      0.01       0.1         1\n",
       "0  0.558520  0.628209  0.812271  0.779260  0.768590\n",
       "1  0.558520  0.558520  0.558520  0.558520  0.558520\n",
       "2  0.875959  0.921641  0.939313  0.943648  0.942648\n",
       "3  0.902301  0.899967  0.896632  0.898966  0.899967"
      ]
     },
     "execution_count": 9,
     "metadata": {},
     "output_type": "execute_result"
    }
   ],
   "source": [
    "pd.DataFrame(data = np.array([test_scores[0:5],\n",
    "                              test_scores[5:10], \n",
    "                              test_scores[10:15],\n",
    "                              test_scores[15:20]]), \n",
    "                              columns = [\"0.0001\", \"0.001\", \"0.01\", \"0.1\", \"1\"])"
   ]
  },
  {
   "cell_type": "markdown",
   "metadata": {},
   "source": [
    "### On what basis would you decide that a hyperparameter setting is optimal? "
   ]
  },
  {
   "cell_type": "markdown",
   "metadata": {},
   "source": [
    "In comparing the training scores, a hyperparameter of 1 is optimal, but when comparing the test scores 0.1 is best. The testing hyperparameter is the most optimal because with that hyperparameter, we get a lower training score, which helps against overfitting, and a higher testing score, the result we want in the end. Interestingly, with suboptimal degree values, different hyperparameters are better, but when looking at the absolute best hyperparameter and degree options, a hyperparameter of 0.1 is optimal."
   ]
  },
  {
   "cell_type": "markdown",
   "metadata": {},
   "source": [
    "### Which setting of (C, d) gave the optimal results?"
   ]
  },
  {
   "cell_type": "markdown",
   "metadata": {},
   "source": [
    "The optimal (C, d) is (0.1 ,3). With these parameters, the validation score is ~94%. Compared to the default parameters, the only difference is that C is 0.1 instead of 1. With different degrees, there are different optimal hyperparameters, but with different hyperparameters, a degree of 3 is optimal except with hyperparameter of 0.0001, which results in a score that is still lower than with the other parameters of 0.1. "
   ]
  },
  {
   "cell_type": "markdown",
   "metadata": {},
   "source": [
    "### You’ll notice that between C and d, one factor mattered far more than the other. What can you conclude about the structure of the datasets and how they were generated?"
   ]
  },
  {
   "cell_type": "markdown",
   "metadata": {},
   "source": [
    "Between C and d, the degree caused the biggest delta in scores. Since the degree sets the highest power of the polynomial function used to model the data, and we know degree 3 modeled the data best, the dataset must be in a cubic function shape. The dataset must have been generated based off a cubic function, with slight variation, since the model did not have a 100% score. "
   ]
  },
  {
   "cell_type": "markdown",
   "metadata": {},
   "source": [
    "### With as much granularity as possible, which hyperparameter settings are underfitting and which are overfitting? What allows you to make this claim?"
   ]
  },
  {
   "cell_type": "markdown",
   "metadata": {},
   "source": [
    "The hyperparameter of 1 is overfitting, because highest scores on the training data with degree less than 5, ~98.4%, while having lower score than other hyperparameters in the validation set.\n",
    "The hyperparameter of 0.0001 is underfitting because it has the lowest training and validation scores, ~91% and ~56% respectively, again for degree less than 5.\n",
    "\n",
    "This further demonstrates the effectiveness of hyperparameter 0.1 and degree 3. With these values, it strikes a good balance between overfitting and underfitting. The score is high for training, but has the highest validation score of ~94.4%."
   ]
  },
  {
   "cell_type": "markdown",
   "metadata": {},
   "source": [
    "# K Fold Cross Validation"
   ]
  },
  {
   "cell_type": "markdown",
   "metadata": {},
   "source": [
    "### Creating models with various gamma"
   ]
  },
  {
   "cell_type": "code",
   "execution_count": 10,
   "metadata": {},
   "outputs": [],
   "source": [
    "models = []\n",
    "gamma = [0.001, 0.01, 0.1, 1, 10, 100, 1000]\n",
    "for g in gamma:\n",
    "    models.append(SVC(kernel = 'rbf', gamma = g))"
   ]
  },
  {
   "cell_type": "markdown",
   "metadata": {},
   "source": [
    "### Training models and recording scores"
   ]
  },
  {
   "cell_type": "code",
   "execution_count": 11,
   "metadata": {},
   "outputs": [],
   "source": [
    "training_scores = []\n",
    "test_scores = []\n",
    "for model in models:\n",
    "    model.fit(X_train, y_train)\n",
    "    training_scores.append(model.score(X_train, y_train))\n",
    "    test_scores.append(model.score(X_test, y_test))"
   ]
  },
  {
   "cell_type": "markdown",
   "metadata": {},
   "source": [
    "### Plot of error with increasing gamma values on training"
   ]
  },
  {
   "cell_type": "code",
   "execution_count": 12,
   "metadata": {},
   "outputs": [
    {
     "data": {
      "text/plain": [
       "<matplotlib.text.Text at 0x10c9db588>"
      ]
     },
     "execution_count": 12,
     "metadata": {},
     "output_type": "execute_result"
    },
    {
     "data": {
      "image/png": "[encoded data removed]",
      "text/plain": [
       "<matplotlib.figure.Figure at 0x10c9742b0>"
      ]
     },
     "metadata": {},
     "output_type": "display_data"
    }
   ],
   "source": [
    "plt.plot([1,2,3,4,5,6,7],training_scores)\n",
    "plt.title('Training') "
   ]
  },
  {
   "cell_type": "markdown",
   "metadata": {},
   "source": [
    "### Plot of error with increasing gamma values on validation"
   ]
  },
  {
   "cell_type": "code",
   "execution_count": 13,
   "metadata": {},
   "outputs": [
    {
     "data": {
      "text/plain": [
       "<matplotlib.text.Text at 0x10cb0b438>"
      ]
     },
     "execution_count": 13,
     "metadata": {},
     "output_type": "execute_result"
    },
    {
     "data": {
      "image/png": "[encoded data removed]",
      "text/plain": [
       "<matplotlib.figure.Figure at 0x10cabad68>"
      ]
     },
     "metadata": {},
     "output_type": "display_data"
    }
   ],
   "source": [
    "plt.plot([1,2,3,4,5,6,7],test_scores)\n",
    "plt.title('Validation') "
   ]
  }
 ],
 "metadata": {
  "kernelspec": {
   "display_name": "Python 3",
   "language": "python",
   "name": "python3"
  },
  "language_info": {
   "codemirror_mode": {
    "name": "ipython",
    "version": 3
   },
   "file_extension": ".py",
   "mimetype": "text/x-python",
   "name": "python",
   "nbconvert_exporter": "python",
   "pygments_lexer": "ipython3",
   "version": "3.6.0"
  }
 },
 "nbformat": 4,
 "nbformat_minor": 2
}
